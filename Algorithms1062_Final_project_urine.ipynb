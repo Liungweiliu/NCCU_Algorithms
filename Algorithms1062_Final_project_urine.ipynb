{
 "cells": [
  {
   "cell_type": "markdown",
   "metadata": {
    "collapsed": true
   },
   "source": [
    "<span style=\"color:#6116BC\">**Urine Analysis Data**</span><br>\n",
    "<span style=\"color:#327689\">**Description**</span><br>\n",
    "The urine data frame has <span style=\"color:#5158BB\">79</span> rows and <span style=\"color:#5158BB\">7</span> columns.<br>\n",
    "79 urine specimens were analyzed in an effort to determine if certain physical characteristics of the urine might be related to the formation of calcium oxalate crystals.<br>\n",
    "\n",
    "**This data frame contains the following columns:**\n",
    "<span style=\"color:#327689\">*r, gravity, ph,osmo, cond,urea and calc*</span><br>\n",
    "<span style=\"color:#327689\">r</span> 腎結石有無出現<br>\n",
    "Indicator of the presence of calcium oxalate crystals.<br>\n",
    "\n",
    "<span style=\"color:#327689\">gravity</span> 尿液比重<br>\n",
    "The specific gravity of the urine.<br>\n",
    "\n",
    "<span style=\"color:#327689\">ph</span><br>\n",
    "The pH reading of the urine.<br>\n",
    "\n",
    "<span style=\"color:#327689\">osmo</span> 滲透壓<br>\n",
    "The osmolarity of the urine. Osmolarity is proportional to the concentration of molecules in solution.<br>\n",
    "<span style=\"color:#0C6FF9\">No.54 has no osmo value</span><br>\n",
    "\n",
    "<span style=\"color:#327689\">cond</span><br>\n",
    "The conductivity of the urine. Conductivity is proportional to the concentration of charged ions in solution.<br>\n",
    "<span style=\"color:#0C6FF9\">No.0 has no cond value</span><br>\n",
    "\n",
    "<span style=\"color:#327689\">urea</span> 血清脲濃度<br>\n",
    "The urea concentration in millimoles per litre.<br>\n",
    "\n",
    "<span style=\"color:#327689\">calc</span> 鈣濃度<br>\n",
    "The calcium concentration in millimoles per litre.<br>\n",
    "\n",
    "**Source**<br>\n",
    "The data were obtained from Andrews, D.F. and Herzberg, A.M. (1985) Data: A Collection of Problems from Many Fields for the Student and Research Worker. Springer-Verlag.<br>\n",
    "\n",
    "**References**<br>\n",
    "Davison, A.C. and Hinkley, D.V. (1997) Bootstrap Methods and Their Application. Cambridge University Press.<br>"
   ]
  },
  {
   "cell_type": "code",
   "execution_count": 13,
   "metadata": {
    "collapsed": true
   },
   "outputs": [],
   "source": [
    "import numpy as np\n",
    "import pandas as pd\n",
    "%matplotlib inline\n",
    "import matplotlib.pyplot as plt\n",
    "from mpl_toolkits.mplot3d import Axes3D\n",
    "from sklearn.linear_model import LinearRegression"
   ]
  },
  {
   "cell_type": "markdown",
   "metadata": {},
   "source": [
    "<span style=\"color:#6116BC\">**Reading data**</span>"
   ]
  },
  {
   "cell_type": "code",
   "execution_count": 3,
   "metadata": {
    "collapsed": false
   },
   "outputs": [],
   "source": [
    "df = pd.read_csv(\"urine.csv\")"
   ]
  },
  {
   "cell_type": "code",
   "execution_count": 12,
   "metadata": {
    "collapsed": false,
    "scrolled": true
   },
   "outputs": [
    {
     "name": "stderr",
     "output_type": "stream",
     "text": [
      "C:\\Users\\名\\Anaconda3\\lib\\site-packages\\numpy\\lib\\function_base.py:4269: RuntimeWarning: Invalid value encountered in percentile\n",
      "  interpolation=interpolation)\n"
     ]
    },
    {
     "data": {
      "text/html": [
       "<div>\n",
       "<table border=\"1\" class=\"dataframe\">\n",
       "  <thead>\n",
       "    <tr style=\"text-align: right;\">\n",
       "      <th></th>\n",
       "      <th>Unnamed: 0</th>\n",
       "      <th>r</th>\n",
       "      <th>gravity</th>\n",
       "      <th>ph</th>\n",
       "      <th>osmo</th>\n",
       "      <th>cond</th>\n",
       "      <th>urea</th>\n",
       "      <th>calc</th>\n",
       "    </tr>\n",
       "  </thead>\n",
       "  <tbody>\n",
       "    <tr>\n",
       "      <th>count</th>\n",
       "      <td>79.000000</td>\n",
       "      <td>79.000000</td>\n",
       "      <td>79.000000</td>\n",
       "      <td>79.000000</td>\n",
       "      <td>78.000000</td>\n",
       "      <td>78.000000</td>\n",
       "      <td>79.000000</td>\n",
       "      <td>79.000000</td>\n",
       "    </tr>\n",
       "    <tr>\n",
       "      <th>mean</th>\n",
       "      <td>40.000000</td>\n",
       "      <td>0.430380</td>\n",
       "      <td>1.018114</td>\n",
       "      <td>6.028481</td>\n",
       "      <td>615.038462</td>\n",
       "      <td>20.901282</td>\n",
       "      <td>266.405063</td>\n",
       "      <td>4.138987</td>\n",
       "    </tr>\n",
       "    <tr>\n",
       "      <th>std</th>\n",
       "      <td>22.949219</td>\n",
       "      <td>0.498293</td>\n",
       "      <td>0.007239</td>\n",
       "      <td>0.724307</td>\n",
       "      <td>238.247685</td>\n",
       "      <td>7.952072</td>\n",
       "      <td>131.254550</td>\n",
       "      <td>3.260051</td>\n",
       "    </tr>\n",
       "    <tr>\n",
       "      <th>min</th>\n",
       "      <td>1.000000</td>\n",
       "      <td>0.000000</td>\n",
       "      <td>1.005000</td>\n",
       "      <td>4.760000</td>\n",
       "      <td>187.000000</td>\n",
       "      <td>5.100000</td>\n",
       "      <td>10.000000</td>\n",
       "      <td>0.170000</td>\n",
       "    </tr>\n",
       "    <tr>\n",
       "      <th>25%</th>\n",
       "      <td>20.500000</td>\n",
       "      <td>0.000000</td>\n",
       "      <td>1.012000</td>\n",
       "      <td>5.530000</td>\n",
       "      <td>NaN</td>\n",
       "      <td>NaN</td>\n",
       "      <td>160.000000</td>\n",
       "      <td>1.460000</td>\n",
       "    </tr>\n",
       "    <tr>\n",
       "      <th>50%</th>\n",
       "      <td>40.000000</td>\n",
       "      <td>0.000000</td>\n",
       "      <td>1.018000</td>\n",
       "      <td>5.940000</td>\n",
       "      <td>NaN</td>\n",
       "      <td>NaN</td>\n",
       "      <td>260.000000</td>\n",
       "      <td>3.160000</td>\n",
       "    </tr>\n",
       "    <tr>\n",
       "      <th>75%</th>\n",
       "      <td>59.500000</td>\n",
       "      <td>1.000000</td>\n",
       "      <td>1.023500</td>\n",
       "      <td>6.385000</td>\n",
       "      <td>NaN</td>\n",
       "      <td>NaN</td>\n",
       "      <td>372.000000</td>\n",
       "      <td>5.930000</td>\n",
       "    </tr>\n",
       "    <tr>\n",
       "      <th>max</th>\n",
       "      <td>79.000000</td>\n",
       "      <td>1.000000</td>\n",
       "      <td>1.040000</td>\n",
       "      <td>7.940000</td>\n",
       "      <td>1236.000000</td>\n",
       "      <td>38.000000</td>\n",
       "      <td>620.000000</td>\n",
       "      <td>14.340000</td>\n",
       "    </tr>\n",
       "  </tbody>\n",
       "</table>\n",
       "</div>"
      ],
      "text/plain": [
       "       Unnamed: 0          r    gravity         ph         osmo       cond  \\\n",
       "count   79.000000  79.000000  79.000000  79.000000    78.000000  78.000000   \n",
       "mean    40.000000   0.430380   1.018114   6.028481   615.038462  20.901282   \n",
       "std     22.949219   0.498293   0.007239   0.724307   238.247685   7.952072   \n",
       "min      1.000000   0.000000   1.005000   4.760000   187.000000   5.100000   \n",
       "25%     20.500000   0.000000   1.012000   5.530000          NaN        NaN   \n",
       "50%     40.000000   0.000000   1.018000   5.940000          NaN        NaN   \n",
       "75%     59.500000   1.000000   1.023500   6.385000          NaN        NaN   \n",
       "max     79.000000   1.000000   1.040000   7.940000  1236.000000  38.000000   \n",
       "\n",
       "             urea       calc  \n",
       "count   79.000000  79.000000  \n",
       "mean   266.405063   4.138987  \n",
       "std    131.254550   3.260051  \n",
       "min     10.000000   0.170000  \n",
       "25%    160.000000   1.460000  \n",
       "50%    260.000000   3.160000  \n",
       "75%    372.000000   5.930000  \n",
       "max    620.000000  14.340000  "
      ]
     },
     "execution_count": 12,
     "metadata": {},
     "output_type": "execute_result"
    }
   ],
   "source": [
    "df.describe()"
   ]
  },
  {
   "cell_type": "markdown",
   "metadata": {},
   "source": [
    "<span style=\"color:#0C6FF9\">**NaN in urine testing data**</span>"
   ]
  },
  {
   "cell_type": "markdown",
   "metadata": {},
   "source": [
    "<span style=\"color:#327689\">**Mathod1: fill null with 0**</span>"
   ]
  },
  {
   "cell_type": "code",
   "execution_count": 14,
   "metadata": {
    "collapsed": true
   },
   "outputs": [],
   "source": [
    "df1 = df.iloc[:,1:]"
   ]
  },
  {
   "cell_type": "code",
   "execution_count": 16,
   "metadata": {
    "collapsed": false
   },
   "outputs": [],
   "source": [
    "df1.fillna(0,inplace=True)"
   ]
  },
  {
   "cell_type": "code",
   "execution_count": 17,
   "metadata": {
    "collapsed": true
   },
   "outputs": [
    {
     "data": {
      "text/html": [
       "<div>\n",
       "<table border=\"1\" class=\"dataframe\">\n",
       "  <thead>\n",
       "    <tr style=\"text-align: right;\">\n",
       "      <th></th>\n",
       "      <th>r</th>\n",
       "      <th>gravity</th>\n",
       "      <th>ph</th>\n",
       "      <th>osmo</th>\n",
       "      <th>cond</th>\n",
       "      <th>urea</th>\n",
       "      <th>calc</th>\n",
       "    </tr>\n",
       "  </thead>\n",
       "  <tbody>\n",
       "    <tr>\n",
       "      <th>count</th>\n",
       "      <td>79.000000</td>\n",
       "      <td>79.000000</td>\n",
       "      <td>79.000000</td>\n",
       "      <td>79.000000</td>\n",
       "      <td>79.000000</td>\n",
       "      <td>79.000000</td>\n",
       "      <td>79.000000</td>\n",
       "    </tr>\n",
       "    <tr>\n",
       "      <th>mean</th>\n",
       "      <td>0.430380</td>\n",
       "      <td>1.018114</td>\n",
       "      <td>6.028481</td>\n",
       "      <td>607.253165</td>\n",
       "      <td>20.636709</td>\n",
       "      <td>266.405063</td>\n",
       "      <td>4.138987</td>\n",
       "    </tr>\n",
       "    <tr>\n",
       "      <th>std</th>\n",
       "      <td>0.498293</td>\n",
       "      <td>0.007239</td>\n",
       "      <td>0.724307</td>\n",
       "      <td>246.622179</td>\n",
       "      <td>8.243462</td>\n",
       "      <td>131.254550</td>\n",
       "      <td>3.260051</td>\n",
       "    </tr>\n",
       "    <tr>\n",
       "      <th>min</th>\n",
       "      <td>0.000000</td>\n",
       "      <td>1.005000</td>\n",
       "      <td>4.760000</td>\n",
       "      <td>0.000000</td>\n",
       "      <td>0.000000</td>\n",
       "      <td>10.000000</td>\n",
       "      <td>0.170000</td>\n",
       "    </tr>\n",
       "    <tr>\n",
       "      <th>25%</th>\n",
       "      <td>0.000000</td>\n",
       "      <td>1.012000</td>\n",
       "      <td>5.530000</td>\n",
       "      <td>409.000000</td>\n",
       "      <td>13.850000</td>\n",
       "      <td>160.000000</td>\n",
       "      <td>1.460000</td>\n",
       "    </tr>\n",
       "    <tr>\n",
       "      <th>50%</th>\n",
       "      <td>0.000000</td>\n",
       "      <td>1.018000</td>\n",
       "      <td>5.940000</td>\n",
       "      <td>594.000000</td>\n",
       "      <td>21.400000</td>\n",
       "      <td>260.000000</td>\n",
       "      <td>3.160000</td>\n",
       "    </tr>\n",
       "    <tr>\n",
       "      <th>75%</th>\n",
       "      <td>1.000000</td>\n",
       "      <td>1.023500</td>\n",
       "      <td>6.385000</td>\n",
       "      <td>792.000000</td>\n",
       "      <td>26.550000</td>\n",
       "      <td>372.000000</td>\n",
       "      <td>5.930000</td>\n",
       "    </tr>\n",
       "    <tr>\n",
       "      <th>max</th>\n",
       "      <td>1.000000</td>\n",
       "      <td>1.040000</td>\n",
       "      <td>7.940000</td>\n",
       "      <td>1236.000000</td>\n",
       "      <td>38.000000</td>\n",
       "      <td>620.000000</td>\n",
       "      <td>14.340000</td>\n",
       "    </tr>\n",
       "  </tbody>\n",
       "</table>\n",
       "</div>"
      ],
      "text/plain": [
       "               r    gravity         ph         osmo       cond        urea  \\\n",
       "count  79.000000  79.000000  79.000000    79.000000  79.000000   79.000000   \n",
       "mean    0.430380   1.018114   6.028481   607.253165  20.636709  266.405063   \n",
       "std     0.498293   0.007239   0.724307   246.622179   8.243462  131.254550   \n",
       "min     0.000000   1.005000   4.760000     0.000000   0.000000   10.000000   \n",
       "25%     0.000000   1.012000   5.530000   409.000000  13.850000  160.000000   \n",
       "50%     0.000000   1.018000   5.940000   594.000000  21.400000  260.000000   \n",
       "75%     1.000000   1.023500   6.385000   792.000000  26.550000  372.000000   \n",
       "max     1.000000   1.040000   7.940000  1236.000000  38.000000  620.000000   \n",
       "\n",
       "            calc  \n",
       "count  79.000000  \n",
       "mean    4.138987  \n",
       "std     3.260051  \n",
       "min     0.170000  \n",
       "25%     1.460000  \n",
       "50%     3.160000  \n",
       "75%     5.930000  \n",
       "max    14.340000  "
      ]
     },
     "execution_count": 17,
     "metadata": {},
     "output_type": "execute_result"
    }
   ],
   "source": [
    "df1.describe()"
   ]
  },
  {
   "cell_type": "code",
   "execution_count": 18,
   "metadata": {
    "collapsed": true
   },
   "outputs": [],
   "source": [
    "df1.describe().to_csv(\"description_after0.csv\")"
   ]
  },
  {
   "cell_type": "markdown",
   "metadata": {},
   "source": [
    "<span style=\"color:#327689\">**Mathod2: fill the null with the average of the feature**</span>"
   ]
  },
  {
   "cell_type": "code",
   "execution_count": 19,
   "metadata": {
    "collapsed": true
   },
   "outputs": [],
   "source": [
    "df2 = df.iloc[:,1:]"
   ]
  },
  {
   "cell_type": "code",
   "execution_count": 20,
   "metadata": {
    "collapsed": true
   },
   "outputs": [],
   "source": [
    "df2.iloc[54,3] = df2.iloc[:,3].mean()\n",
    "df2.iloc[0,4] = df2.iloc[:,4].mean()"
   ]
  },
  {
   "cell_type": "code",
   "execution_count": 22,
   "metadata": {
    "collapsed": true
   },
   "outputs": [
    {
     "data": {
      "text/html": [
       "<div>\n",
       "<table border=\"1\" class=\"dataframe\">\n",
       "  <thead>\n",
       "    <tr style=\"text-align: right;\">\n",
       "      <th></th>\n",
       "      <th>r</th>\n",
       "      <th>gravity</th>\n",
       "      <th>ph</th>\n",
       "      <th>osmo</th>\n",
       "      <th>cond</th>\n",
       "      <th>urea</th>\n",
       "      <th>calc</th>\n",
       "    </tr>\n",
       "  </thead>\n",
       "  <tbody>\n",
       "    <tr>\n",
       "      <th>count</th>\n",
       "      <td>79.000000</td>\n",
       "      <td>79.000000</td>\n",
       "      <td>79.000000</td>\n",
       "      <td>79.000000</td>\n",
       "      <td>79.000000</td>\n",
       "      <td>79.000000</td>\n",
       "      <td>79.000000</td>\n",
       "    </tr>\n",
       "    <tr>\n",
       "      <th>mean</th>\n",
       "      <td>0.430380</td>\n",
       "      <td>1.018114</td>\n",
       "      <td>6.028481</td>\n",
       "      <td>615.038462</td>\n",
       "      <td>20.901282</td>\n",
       "      <td>266.405063</td>\n",
       "      <td>4.138987</td>\n",
       "    </tr>\n",
       "    <tr>\n",
       "      <th>std</th>\n",
       "      <td>0.498293</td>\n",
       "      <td>0.007239</td>\n",
       "      <td>0.724307</td>\n",
       "      <td>236.715530</td>\n",
       "      <td>7.900933</td>\n",
       "      <td>131.254550</td>\n",
       "      <td>3.260051</td>\n",
       "    </tr>\n",
       "    <tr>\n",
       "      <th>min</th>\n",
       "      <td>0.000000</td>\n",
       "      <td>1.005000</td>\n",
       "      <td>4.760000</td>\n",
       "      <td>187.000000</td>\n",
       "      <td>5.100000</td>\n",
       "      <td>10.000000</td>\n",
       "      <td>0.170000</td>\n",
       "    </tr>\n",
       "    <tr>\n",
       "      <th>25%</th>\n",
       "      <td>0.000000</td>\n",
       "      <td>1.012000</td>\n",
       "      <td>5.530000</td>\n",
       "      <td>413.000000</td>\n",
       "      <td>14.450000</td>\n",
       "      <td>160.000000</td>\n",
       "      <td>1.460000</td>\n",
       "    </tr>\n",
       "    <tr>\n",
       "      <th>50%</th>\n",
       "      <td>0.000000</td>\n",
       "      <td>1.018000</td>\n",
       "      <td>5.940000</td>\n",
       "      <td>615.038462</td>\n",
       "      <td>21.400000</td>\n",
       "      <td>260.000000</td>\n",
       "      <td>3.160000</td>\n",
       "    </tr>\n",
       "    <tr>\n",
       "      <th>75%</th>\n",
       "      <td>1.000000</td>\n",
       "      <td>1.023500</td>\n",
       "      <td>6.385000</td>\n",
       "      <td>792.000000</td>\n",
       "      <td>26.550000</td>\n",
       "      <td>372.000000</td>\n",
       "      <td>5.930000</td>\n",
       "    </tr>\n",
       "    <tr>\n",
       "      <th>max</th>\n",
       "      <td>1.000000</td>\n",
       "      <td>1.040000</td>\n",
       "      <td>7.940000</td>\n",
       "      <td>1236.000000</td>\n",
       "      <td>38.000000</td>\n",
       "      <td>620.000000</td>\n",
       "      <td>14.340000</td>\n",
       "    </tr>\n",
       "  </tbody>\n",
       "</table>\n",
       "</div>"
      ],
      "text/plain": [
       "               r    gravity         ph         osmo       cond        urea  \\\n",
       "count  79.000000  79.000000  79.000000    79.000000  79.000000   79.000000   \n",
       "mean    0.430380   1.018114   6.028481   615.038462  20.901282  266.405063   \n",
       "std     0.498293   0.007239   0.724307   236.715530   7.900933  131.254550   \n",
       "min     0.000000   1.005000   4.760000   187.000000   5.100000   10.000000   \n",
       "25%     0.000000   1.012000   5.530000   413.000000  14.450000  160.000000   \n",
       "50%     0.000000   1.018000   5.940000   615.038462  21.400000  260.000000   \n",
       "75%     1.000000   1.023500   6.385000   792.000000  26.550000  372.000000   \n",
       "max     1.000000   1.040000   7.940000  1236.000000  38.000000  620.000000   \n",
       "\n",
       "            calc  \n",
       "count  79.000000  \n",
       "mean    4.138987  \n",
       "std     3.260051  \n",
       "min     0.170000  \n",
       "25%     1.460000  \n",
       "50%     3.160000  \n",
       "75%     5.930000  \n",
       "max    14.340000  "
      ]
     },
     "execution_count": 22,
     "metadata": {},
     "output_type": "execute_result"
    }
   ],
   "source": [
    "df2.describe()"
   ]
  },
  {
   "cell_type": "code",
   "execution_count": 23,
   "metadata": {
    "collapsed": true
   },
   "outputs": [],
   "source": [
    "df2.describe().to_csv(\"description_nulltoaverage.csv\")"
   ]
  },
  {
   "cell_type": "markdown",
   "metadata": {},
   "source": [
    "<span style=\"color:#327689\">**Mathod3: directly drop the null**</span>"
   ]
  },
  {
   "cell_type": "code",
   "execution_count": 7,
   "metadata": {
    "collapsed": true
   },
   "outputs": [],
   "source": [
    "#remove the extra index\n",
    "df3 = df.iloc[:,1:]"
   ]
  },
  {
   "cell_type": "code",
   "execution_count": 10,
   "metadata": {
    "collapsed": false
   },
   "outputs": [],
   "source": [
    "#Mathod3: directly drop the null\n",
    "df3.dropna(inplace=True)"
   ]
  },
  {
   "cell_type": "code",
   "execution_count": 21,
   "metadata": {
    "collapsed": false
   },
   "outputs": [
    {
     "data": {
      "text/html": [
       "<div>\n",
       "<table border=\"1\" class=\"dataframe\">\n",
       "  <thead>\n",
       "    <tr style=\"text-align: right;\">\n",
       "      <th></th>\n",
       "      <th>r</th>\n",
       "      <th>gravity</th>\n",
       "      <th>ph</th>\n",
       "      <th>osmo</th>\n",
       "      <th>cond</th>\n",
       "      <th>urea</th>\n",
       "      <th>calc</th>\n",
       "    </tr>\n",
       "  </thead>\n",
       "  <tbody>\n",
       "    <tr>\n",
       "      <th>count</th>\n",
       "      <td>77.000000</td>\n",
       "      <td>77.000000</td>\n",
       "      <td>77.000000</td>\n",
       "      <td>77.000000</td>\n",
       "      <td>77.000000</td>\n",
       "      <td>77.000000</td>\n",
       "      <td>77.000000</td>\n",
       "    </tr>\n",
       "    <tr>\n",
       "      <th>mean</th>\n",
       "      <td>0.428571</td>\n",
       "      <td>1.018026</td>\n",
       "      <td>6.040649</td>\n",
       "      <td>613.610390</td>\n",
       "      <td>20.905195</td>\n",
       "      <td>262.402597</td>\n",
       "      <td>4.160390</td>\n",
       "    </tr>\n",
       "    <tr>\n",
       "      <th>std</th>\n",
       "      <td>0.498117</td>\n",
       "      <td>0.007313</td>\n",
       "      <td>0.722068</td>\n",
       "      <td>239.473719</td>\n",
       "      <td>8.004142</td>\n",
       "      <td>130.486363</td>\n",
       "      <td>3.296907</td>\n",
       "    </tr>\n",
       "    <tr>\n",
       "      <th>min</th>\n",
       "      <td>0.000000</td>\n",
       "      <td>1.005000</td>\n",
       "      <td>4.760000</td>\n",
       "      <td>187.000000</td>\n",
       "      <td>5.100000</td>\n",
       "      <td>10.000000</td>\n",
       "      <td>0.170000</td>\n",
       "    </tr>\n",
       "    <tr>\n",
       "      <th>25%</th>\n",
       "      <td>0.000000</td>\n",
       "      <td>1.012000</td>\n",
       "      <td>5.530000</td>\n",
       "      <td>410.000000</td>\n",
       "      <td>14.300000</td>\n",
       "      <td>159.000000</td>\n",
       "      <td>1.450000</td>\n",
       "    </tr>\n",
       "    <tr>\n",
       "      <th>50%</th>\n",
       "      <td>0.000000</td>\n",
       "      <td>1.018000</td>\n",
       "      <td>5.940000</td>\n",
       "      <td>594.000000</td>\n",
       "      <td>21.400000</td>\n",
       "      <td>255.000000</td>\n",
       "      <td>3.160000</td>\n",
       "    </tr>\n",
       "    <tr>\n",
       "      <th>75%</th>\n",
       "      <td>1.000000</td>\n",
       "      <td>1.024000</td>\n",
       "      <td>6.400000</td>\n",
       "      <td>803.000000</td>\n",
       "      <td>27.000000</td>\n",
       "      <td>362.000000</td>\n",
       "      <td>6.190000</td>\n",
       "    </tr>\n",
       "    <tr>\n",
       "      <th>max</th>\n",
       "      <td>1.000000</td>\n",
       "      <td>1.040000</td>\n",
       "      <td>7.940000</td>\n",
       "      <td>1236.000000</td>\n",
       "      <td>38.000000</td>\n",
       "      <td>620.000000</td>\n",
       "      <td>14.340000</td>\n",
       "    </tr>\n",
       "  </tbody>\n",
       "</table>\n",
       "</div>"
      ],
      "text/plain": [
       "               r    gravity         ph         osmo       cond        urea  \\\n",
       "count  77.000000  77.000000  77.000000    77.000000  77.000000   77.000000   \n",
       "mean    0.428571   1.018026   6.040649   613.610390  20.905195  262.402597   \n",
       "std     0.498117   0.007313   0.722068   239.473719   8.004142  130.486363   \n",
       "min     0.000000   1.005000   4.760000   187.000000   5.100000   10.000000   \n",
       "25%     0.000000   1.012000   5.530000   410.000000  14.300000  159.000000   \n",
       "50%     0.000000   1.018000   5.940000   594.000000  21.400000  255.000000   \n",
       "75%     1.000000   1.024000   6.400000   803.000000  27.000000  362.000000   \n",
       "max     1.000000   1.040000   7.940000  1236.000000  38.000000  620.000000   \n",
       "\n",
       "            calc  \n",
       "count  77.000000  \n",
       "mean    4.160390  \n",
       "std     3.296907  \n",
       "min     0.170000  \n",
       "25%     1.450000  \n",
       "50%     3.160000  \n",
       "75%     6.190000  \n",
       "max    14.340000  "
      ]
     },
     "execution_count": 21,
     "metadata": {},
     "output_type": "execute_result"
    }
   ],
   "source": [
    "df3.describe()"
   ]
  },
  {
   "cell_type": "markdown",
   "metadata": {},
   "source": [
    "<span style=\"color:#6116BC\">**normalization**</span>"
   ]
  },
  {
   "cell_type": "code",
   "execution_count": 24,
   "metadata": {
    "collapsed": false
   },
   "outputs": [],
   "source": [
    "#features\n",
    "X2 = df3.iloc[:, 1:]\n",
    "#answer\n",
    "Y2 = df3.iloc[:, 0]"
   ]
  },
  {
   "cell_type": "code",
   "execution_count": 25,
   "metadata": {
    "collapsed": false
   },
   "outputs": [],
   "source": [
    "X3 = (X2 - X2.mean()) / (X2.max() - X2.min())"
   ]
  },
  {
   "cell_type": "code",
   "execution_count": 334,
   "metadata": {
    "collapsed": false
   },
   "outputs": [],
   "source": [
    "X3.describe().to_csv(\"description_X3nornalized.csv\")"
   ]
  },
  {
   "cell_type": "markdown",
   "metadata": {},
   "source": [
    "<span style=\"color:#6116BC\">**Visualization**</span>"
   ]
  },
  {
   "cell_type": "code",
   "execution_count": 27,
   "metadata": {
    "collapsed": false,
    "scrolled": false
   },
   "outputs": [],
   "source": [
    "data = X3.values"
   ]
  },
  {
   "cell_type": "code",
   "execution_count": 28,
   "metadata": {
    "collapsed": false
   },
   "outputs": [],
   "source": [
    "gravity = data[:,0]\n",
    "ph = data[:,1]\n",
    "osmo = data[:,2]\n",
    "cond = data[:,3]\n",
    "urea = data[:,4]\n",
    "calc = data[:,5]"
   ]
  },
  {
   "cell_type": "code",
   "execution_count": 341,
   "metadata": {
    "collapsed": false
   },
   "outputs": [],
   "source": [
    "#binary\n",
    "Y = Y2"
   ]
  },
  {
   "cell_type": "code",
   "execution_count": 342,
   "metadata": {
    "collapsed": true
   },
   "outputs": [],
   "source": [
    "x1 = gravity\n",
    "x2 = urea"
   ]
  },
  {
   "cell_type": "code",
   "execution_count": 343,
   "metadata": {
    "collapsed": false
   },
   "outputs": [],
   "source": [
    "#single feature distribution\n",
    "plt.figure(2, figsize=(25, 16))\n",
    "\n",
    "# Plot the training points\n",
    "plt.scatter(x1, x2, c=Y, cmap=plt.cm.winter, edgecolor='k', s=200, \n",
    "            marker='8', alpha=0.8)\n",
    "\n",
    "plt.xlabel('$Specific$ $gravity$ $of$ $the$ $urine$',fontsize=30, color = \"#276C8C\")\n",
    "plt.ylabel('$Urea$ $concentration$ $per$ $litre$', fontsize=30, color = \"#276C8C\")\n",
    "plt.title('$Scatter$ $between$ $Gravity$ $and$ $Urea$', fontsize = 40, color = \"#3E9145\")\n",
    "#plt.xlim(x1.min() - 0.05, x1.max() + 0.05)\n",
    "plt.ylim(x2.min() - 0.05, x2.max() + 0.05)\n",
    "plt.grid(True)\n",
    "plt.show()"
   ]
  },
  {
   "cell_type": "code",
   "execution_count": 44,
   "metadata": {
    "collapsed": true
   },
   "outputs": [],
   "source": [
    "dis = range(len(gravity))"
   ]
  },
  {
   "cell_type": "code",
   "execution_count": 345,
   "metadata": {
    "collapsed": false
   },
   "outputs": [],
   "source": [
    "#the presence of calcium oxalate crystals with distribution of each column\n",
    "plt.figure(figsize=(18,8),dpi=100)\n",
    "\n",
    "p1 = plt.subplot(231)#(2columnwidth 1rowlength index1)\n",
    "p2 = plt.subplot(232)#(2columnwidth 1rowlength index2)\n",
    "p3 = plt.subplot(233)#(2columnwidth 1rowlength index2)\n",
    "p4 = plt.subplot(234)#(2columnwidth 1rowlength index2)\n",
    "p5 = plt.subplot(235)#(2columnwidth 1rowlength index2)\n",
    "p6 = plt.subplot(236)#(2columnwidth 1rowlength index2)\n",
    "\n",
    "#數學式$式子$\n",
    "title_f1 = \"$Gravity$ $of$ $the$ $urine$\"\n",
    "title_f2 = \"$ph$\"\n",
    "title_f3 = \"$Osmolarity$ $of$ $urine$\"\n",
    "title_f4 = \"$Conductivity$ $Concentration$\"\n",
    "title_f5 = \"$Urea$ $Concentration$\"\n",
    "title_f6 = \"$Calcium$ $Concentration$\"\n",
    "\n",
    "p1.scatter(dis, gravity, c=Y, cmap=plt.cm.winter, edgecolor='k', s=100, \n",
    "            marker='8', alpha=0.8, label=title_f1)\n",
    "p2.scatter(dis, ph, c=Y2, cmap=plt.cm.winter, edgecolor='k', s=100, \n",
    "            marker='8', alpha=0.8)\n",
    "p3.scatter(dis, osmo, c=Y, cmap=plt.cm.winter, edgecolor='k', s=100, \n",
    "            marker='8', alpha=0.8)\n",
    "p4.scatter(dis, cond, c=Y, cmap=plt.cm.winter, edgecolor='k', s=100, \n",
    "            marker='8', alpha=0.8)\n",
    "p5.scatter(dis, urea, c=Y, cmap=plt.cm.winter, edgecolor='k', s=100, \n",
    "            marker='8', alpha=0.8)\n",
    "p6.scatter(dis, calc, c=Y, cmap=plt.cm.winter, edgecolor='k', s=100, \n",
    "            marker='8', alpha=0.8)\n",
    "\n",
    "p1.set_ylabel(title_f1, fontsize=14, color = \"#276C8C\")\n",
    "p2.set_ylabel(title_f2, fontsize=14, color = \"#276C8C\")\n",
    "p3.set_ylabel(title_f3, fontsize=14, color = \"#276C8C\")\n",
    "p4.set_ylabel(title_f4, fontsize=14, color = \"#276C8C\")\n",
    "p5.set_ylabel(title_f5, fontsize=14, color = \"#276C8C\")\n",
    "p6.set_ylabel(title_f6, fontsize=14, color = \"#276C8C\")\n",
    "\n",
    "#missing value marker\n",
    "#p3.text(49,0+20,\"$missing$ $value$\",fontsize= 15, color = \"#103900\", verticalalignment=\"bottom\",horizontalalignment=\"left\")\n",
    "#p3.annotate(\"$missing$ $value$\", fontsize= 15, color = \"#103900\",xy=(49, 0),xytext=(49,50),arrowprops=dict(facecolor=\"#F98BB0\", shrink=0.001))\n",
    "\n",
    "#p4.text(2,0+0.05,\"$missing$ $value$\",fontsize= 15, color = \"#103900\", verticalalignment=\"bottom\",horizontalalignment=\"left\")\n",
    "#p4.annotate(\"$missing$ $value$\",fontsize= 15, color = \"#103900\",xy=(0, 0),xytext=(2, 0+0.05),arrowprops=dict(facecolor=\"#F98BB0\", shrink=0.001))\n",
    "\n",
    "\n",
    "plt.show()"
   ]
  },
  {
   "cell_type": "code",
   "execution_count": 346,
   "metadata": {
    "collapsed": false
   },
   "outputs": [],
   "source": [
    "##test for 6 column\n",
    "plt.figure(figsize=(18,8),dpi=100)\n",
    "\n",
    "p1 = plt.subplot(231)#(2columnwidth 1rowlength index1)\n",
    "p2 = plt.subplot(232)#(2columnwidth 1rowlength index2)\n",
    "p3 = plt.subplot(233)#(2columnwidth 1rowlength index2)\n",
    "p4 = plt.subplot(234)#(2columnwidth 1rowlength index2)\n",
    "p5 = plt.subplot(235)#(2columnwidth 1rowlength index2)\n",
    "p6 = plt.subplot(236)#(2columnwidth 1rowlength index2)\n",
    "\n",
    "#數學式$式子$\n",
    "title_f1 = \"$Gravity$ $of$ $the$ $urine$\"\n",
    "title_f2 = \"$ph$\"\n",
    "title_f3 = \"$Osmolarity$ $of$ $urine$\"\n",
    "title_f4 = \"$Conductivity$ $Concentration$\"\n",
    "title_f5 = \"$Urea$ $Concentration$\"\n",
    "title_f6 = \"$Calcium$ $Concentration$\"\n",
    "\n",
    "p1.scatter(x1, gravity, c=Y, cmap=plt.cm.winter, edgecolor='k', s=100, \n",
    "            marker='8', alpha=0.8, label=title_f1)\n",
    "p2.scatter(x1, ph, c=Y, cmap=plt.cm.winter, edgecolor='k', s=100, \n",
    "            marker='8', alpha=0.8)\n",
    "p3.scatter(x1, osmo, c=Y, cmap=plt.cm.winter, edgecolor='k', s=100, \n",
    "            marker='8', alpha=0.8)\n",
    "p4.scatter(x1, cond, c=Y, cmap=plt.cm.winter, edgecolor='k', s=100, \n",
    "            marker='8', alpha=0.8)\n",
    "p5.scatter(x1, urea, c=Y, cmap=plt.cm.winter, edgecolor='k', s=100, \n",
    "            marker='8', alpha=0.8)\n",
    "p6.scatter(x1, calc, c=Y, cmap=plt.cm.winter, edgecolor='k', s=100, \n",
    "            marker='8', alpha=0.8)\n",
    "\n",
    "p1.set_ylabel(title_f1, fontsize=14, color = \"#276C8C\")\n",
    "p2.set_ylabel(title_f2, fontsize=14, color = \"#276C8C\")\n",
    "p3.set_ylabel(title_f3, fontsize=14, color = \"#276C8C\")\n",
    "p4.set_ylabel(title_f4, fontsize=14, color = \"#276C8C\")\n",
    "p5.set_ylabel(title_f5, fontsize=14, color = \"#276C8C\")\n",
    "p6.set_ylabel(title_f6, fontsize=14, color = \"#276C8C\")\n",
    "\n",
    "#missing value marker\n",
    "p3.text(49,0+20,\"$missing$ $value$\",fontsize= 15, color = \"#103900\", verticalalignment=\"bottom\",horizontalalignment=\"left\")\n",
    "#p3.annotate(\"$missing$ $value$\", fontsize= 15, color = \"#103900\",xy=(49, 0),xytext=(49,50),arrowprops=dict(facecolor=\"#F98BB0\", shrink=0.001))\n",
    "\n",
    "p4.text(2,0+0.05,\"$missing$ $value$\",fontsize= 15, color = \"#103900\", verticalalignment=\"bottom\",horizontalalignment=\"left\")\n",
    "#p4.annotate(\"$missing$ $value$\",fontsize= 15, color = \"#103900\",xy=(0, 0),xytext=(2, 0+0.05),arrowprops=dict(facecolor=\"#F98BB0\", shrink=0.001))\n",
    "\n",
    "\n",
    "plt.show()"
   ]
  },
  {
   "cell_type": "code",
   "execution_count": 352,
   "metadata": {
    "collapsed": true
   },
   "outputs": [],
   "source": [
    "plt.figure(2, figsize=(25, 16))\n",
    "\n",
    "# Plot the training points\n",
    "plt.scatter(x1, x2, c=Y, cmap=plt.cm.winter, edgecolor='k', s=200, \n",
    "            marker='8', alpha=0.8)\n",
    "plt.xlabel('$Urea$ $concentration$ $per$ $litre$',fontsize=30, color = \"#276C8C\")\n",
    "plt.ylabel('$Calcium$ $concentration$ $per$ $litre$', fontsize=30, color = \"#276C8C\")\n",
    "plt.title('$Scatter$ $between$ $Urea$ $and$ $Calcium$', fontsize = 40, color = \"#3E9145\")\n",
    "plt.xlim(x1.min() - 0.05, x1.max() + 0.05)\n",
    "plt.ylim(x2.min() - 0.05, x2.max() + 0.05)\n",
    "plt.grid(True)\n",
    "plt.show()"
   ]
  },
  {
   "cell_type": "code",
   "execution_count": 351,
   "metadata": {
    "collapsed": false,
    "scrolled": false
   },
   "outputs": [],
   "source": [
    "plt.figure(2, figsize=(15, 8))\n",
    "\n",
    "# Plot the training points\n",
    "plt.scatter(osmo, calc, c=Y, cmap=plt.cm.winter, edgecolor='k', s=200, \n",
    "            marker='8', alpha=0.4)\n",
    "plt.xlabel('$osmo$',fontsize=30, color = \"#348FBA\")\n",
    "plt.ylabel('$calc$', fontsize=30, color = \"#348FBA\")\n",
    "plt.title('$Relation$ $Between$ $Urea$ $and$ $calc$', fontsize = 40, color = \"#CF8BA3\")\n",
    "plt.xlim(osmo.min() - 0.05, osmo.max() + 0.05)\n",
    "plt.ylim(calc.min() - 0.05, calc.max() + 0.05)\n",
    "plt.grid(True)\n",
    "plt.show()"
   ]
  },
  {
   "cell_type": "code",
   "execution_count": 350,
   "metadata": {
    "collapsed": false
   },
   "outputs": [],
   "source": [
    "plt.figure(2, figsize=(15, 8))\n",
    "\n",
    "# Plot the training points\n",
    "plt.scatter(cond, ph, c=Y, cmap=plt.cm.winter, edgecolor='k', s=200, \n",
    "            marker='8', alpha=0.4)\n",
    "plt.xlabel('$Urea$',fontsize=30, color = \"#348FBA\")\n",
    "plt.ylabel('$ph$', fontsize=30, color = \"#348FBA\")\n",
    "plt.title('$Relation$ $Between$ $Urea$ $and$ $ph$', fontsize = 40, color = \"#CF8BA3\")\n",
    "plt.xlim(cond.min() - 0.05, cond.max() + 0.05)\n",
    "plt.ylim(ph.min() - 0.05, ph.max() + 0.05)\n",
    "plt.grid(True)\n",
    "plt.show()"
   ]
  },
  {
   "cell_type": "code",
   "execution_count": null,
   "metadata": {
    "collapsed": true
   },
   "outputs": [],
   "source": [
    "# fig = plt.figure(1, figsize=(8, 6))\n",
    "# ax = Axes3D(fig, elev=-150, azim=110)\n",
    "# X_reduced = PCA(n_components=3).fit_transform(iris.data)\n",
    "# ax.scatter(X_reduced[:, 0], X_reduced[:, 1], X_reduced[:, 2], c=y,\n",
    "#            cmap=plt.cm.Set1, edgecolor='k', s=40)\n",
    "# ax.set_title(\"First three PCA directions\")\n",
    "# ax.set_xlabel(\"1st eigenvector\")\n",
    "# ax.w_xaxis.set_ticklabels([])\n",
    "# ax.set_ylabel(\"2nd eigenvector\")\n",
    "# ax.w_yaxis.set_ticklabels([])\n",
    "# ax.set_zlabel(\"3rd eigenvector\")\n",
    "# ax.w_zaxis.set_ticklabels([])"
   ]
  },
  {
   "cell_type": "code",
   "execution_count": 172,
   "metadata": {
    "collapsed": true
   },
   "outputs": [
    {
     "data": {
      "text/html": [
       "<div>\n",
       "<table border=\"1\" class=\"dataframe\">\n",
       "  <thead>\n",
       "    <tr style=\"text-align: right;\">\n",
       "      <th></th>\n",
       "      <th>r</th>\n",
       "      <th>gravity</th>\n",
       "      <th>ph</th>\n",
       "      <th>osmo</th>\n",
       "      <th>cond</th>\n",
       "      <th>urea</th>\n",
       "      <th>calc</th>\n",
       "    </tr>\n",
       "  </thead>\n",
       "  <tbody>\n",
       "    <tr>\n",
       "      <th>0</th>\n",
       "      <td>0</td>\n",
       "      <td>1.021</td>\n",
       "      <td>4.91</td>\n",
       "      <td>725.0</td>\n",
       "      <td>0.0</td>\n",
       "      <td>443</td>\n",
       "      <td>2.45</td>\n",
       "    </tr>\n",
       "    <tr>\n",
       "      <th>1</th>\n",
       "      <td>0</td>\n",
       "      <td>1.017</td>\n",
       "      <td>5.74</td>\n",
       "      <td>577.0</td>\n",
       "      <td>20.0</td>\n",
       "      <td>296</td>\n",
       "      <td>4.49</td>\n",
       "    </tr>\n",
       "    <tr>\n",
       "      <th>2</th>\n",
       "      <td>0</td>\n",
       "      <td>1.008</td>\n",
       "      <td>7.20</td>\n",
       "      <td>321.0</td>\n",
       "      <td>14.9</td>\n",
       "      <td>101</td>\n",
       "      <td>2.36</td>\n",
       "    </tr>\n",
       "    <tr>\n",
       "      <th>3</th>\n",
       "      <td>0</td>\n",
       "      <td>1.011</td>\n",
       "      <td>5.51</td>\n",
       "      <td>408.0</td>\n",
       "      <td>12.6</td>\n",
       "      <td>224</td>\n",
       "      <td>2.15</td>\n",
       "    </tr>\n",
       "    <tr>\n",
       "      <th>4</th>\n",
       "      <td>0</td>\n",
       "      <td>1.005</td>\n",
       "      <td>6.52</td>\n",
       "      <td>187.0</td>\n",
       "      <td>7.5</td>\n",
       "      <td>91</td>\n",
       "      <td>1.16</td>\n",
       "    </tr>\n",
       "    <tr>\n",
       "      <th>5</th>\n",
       "      <td>0</td>\n",
       "      <td>1.020</td>\n",
       "      <td>5.27</td>\n",
       "      <td>668.0</td>\n",
       "      <td>25.3</td>\n",
       "      <td>252</td>\n",
       "      <td>3.34</td>\n",
       "    </tr>\n",
       "    <tr>\n",
       "      <th>6</th>\n",
       "      <td>0</td>\n",
       "      <td>1.012</td>\n",
       "      <td>5.62</td>\n",
       "      <td>461.0</td>\n",
       "      <td>17.4</td>\n",
       "      <td>195</td>\n",
       "      <td>1.40</td>\n",
       "    </tr>\n",
       "    <tr>\n",
       "      <th>7</th>\n",
       "      <td>0</td>\n",
       "      <td>1.029</td>\n",
       "      <td>5.67</td>\n",
       "      <td>1107.0</td>\n",
       "      <td>35.9</td>\n",
       "      <td>550</td>\n",
       "      <td>8.48</td>\n",
       "    </tr>\n",
       "    <tr>\n",
       "      <th>8</th>\n",
       "      <td>0</td>\n",
       "      <td>1.015</td>\n",
       "      <td>5.41</td>\n",
       "      <td>543.0</td>\n",
       "      <td>21.9</td>\n",
       "      <td>170</td>\n",
       "      <td>1.16</td>\n",
       "    </tr>\n",
       "    <tr>\n",
       "      <th>9</th>\n",
       "      <td>0</td>\n",
       "      <td>1.021</td>\n",
       "      <td>6.13</td>\n",
       "      <td>779.0</td>\n",
       "      <td>25.7</td>\n",
       "      <td>382</td>\n",
       "      <td>2.21</td>\n",
       "    </tr>\n",
       "    <tr>\n",
       "      <th>10</th>\n",
       "      <td>0</td>\n",
       "      <td>1.011</td>\n",
       "      <td>6.19</td>\n",
       "      <td>345.0</td>\n",
       "      <td>11.5</td>\n",
       "      <td>152</td>\n",
       "      <td>1.93</td>\n",
       "    </tr>\n",
       "    <tr>\n",
       "      <th>11</th>\n",
       "      <td>0</td>\n",
       "      <td>1.025</td>\n",
       "      <td>5.53</td>\n",
       "      <td>907.0</td>\n",
       "      <td>28.4</td>\n",
       "      <td>448</td>\n",
       "      <td>1.27</td>\n",
       "    </tr>\n",
       "    <tr>\n",
       "      <th>12</th>\n",
       "      <td>0</td>\n",
       "      <td>1.006</td>\n",
       "      <td>7.12</td>\n",
       "      <td>242.0</td>\n",
       "      <td>11.3</td>\n",
       "      <td>64</td>\n",
       "      <td>1.03</td>\n",
       "    </tr>\n",
       "    <tr>\n",
       "      <th>13</th>\n",
       "      <td>0</td>\n",
       "      <td>1.007</td>\n",
       "      <td>5.35</td>\n",
       "      <td>283.0</td>\n",
       "      <td>9.9</td>\n",
       "      <td>147</td>\n",
       "      <td>1.47</td>\n",
       "    </tr>\n",
       "    <tr>\n",
       "      <th>14</th>\n",
       "      <td>0</td>\n",
       "      <td>1.011</td>\n",
       "      <td>5.21</td>\n",
       "      <td>450.0</td>\n",
       "      <td>17.9</td>\n",
       "      <td>161</td>\n",
       "      <td>1.53</td>\n",
       "    </tr>\n",
       "    <tr>\n",
       "      <th>15</th>\n",
       "      <td>0</td>\n",
       "      <td>1.018</td>\n",
       "      <td>4.90</td>\n",
       "      <td>684.0</td>\n",
       "      <td>26.1</td>\n",
       "      <td>284</td>\n",
       "      <td>5.09</td>\n",
       "    </tr>\n",
       "    <tr>\n",
       "      <th>16</th>\n",
       "      <td>0</td>\n",
       "      <td>1.007</td>\n",
       "      <td>6.63</td>\n",
       "      <td>253.0</td>\n",
       "      <td>8.4</td>\n",
       "      <td>133</td>\n",
       "      <td>1.05</td>\n",
       "    </tr>\n",
       "    <tr>\n",
       "      <th>17</th>\n",
       "      <td>0</td>\n",
       "      <td>1.025</td>\n",
       "      <td>6.81</td>\n",
       "      <td>947.0</td>\n",
       "      <td>32.6</td>\n",
       "      <td>395</td>\n",
       "      <td>2.03</td>\n",
       "    </tr>\n",
       "    <tr>\n",
       "      <th>18</th>\n",
       "      <td>0</td>\n",
       "      <td>1.008</td>\n",
       "      <td>6.88</td>\n",
       "      <td>395.0</td>\n",
       "      <td>26.1</td>\n",
       "      <td>95</td>\n",
       "      <td>7.68</td>\n",
       "    </tr>\n",
       "    <tr>\n",
       "      <th>19</th>\n",
       "      <td>0</td>\n",
       "      <td>1.014</td>\n",
       "      <td>6.14</td>\n",
       "      <td>565.0</td>\n",
       "      <td>23.6</td>\n",
       "      <td>214</td>\n",
       "      <td>1.45</td>\n",
       "    </tr>\n",
       "    <tr>\n",
       "      <th>20</th>\n",
       "      <td>0</td>\n",
       "      <td>1.024</td>\n",
       "      <td>6.30</td>\n",
       "      <td>874.0</td>\n",
       "      <td>29.9</td>\n",
       "      <td>380</td>\n",
       "      <td>5.16</td>\n",
       "    </tr>\n",
       "    <tr>\n",
       "      <th>21</th>\n",
       "      <td>0</td>\n",
       "      <td>1.019</td>\n",
       "      <td>5.47</td>\n",
       "      <td>760.0</td>\n",
       "      <td>33.8</td>\n",
       "      <td>199</td>\n",
       "      <td>0.81</td>\n",
       "    </tr>\n",
       "    <tr>\n",
       "      <th>22</th>\n",
       "      <td>0</td>\n",
       "      <td>1.014</td>\n",
       "      <td>7.38</td>\n",
       "      <td>577.0</td>\n",
       "      <td>30.1</td>\n",
       "      <td>87</td>\n",
       "      <td>1.32</td>\n",
       "    </tr>\n",
       "    <tr>\n",
       "      <th>23</th>\n",
       "      <td>0</td>\n",
       "      <td>1.020</td>\n",
       "      <td>5.96</td>\n",
       "      <td>631.0</td>\n",
       "      <td>11.2</td>\n",
       "      <td>422</td>\n",
       "      <td>1.55</td>\n",
       "    </tr>\n",
       "    <tr>\n",
       "      <th>24</th>\n",
       "      <td>0</td>\n",
       "      <td>1.023</td>\n",
       "      <td>5.68</td>\n",
       "      <td>749.0</td>\n",
       "      <td>29.0</td>\n",
       "      <td>239</td>\n",
       "      <td>1.52</td>\n",
       "    </tr>\n",
       "    <tr>\n",
       "      <th>25</th>\n",
       "      <td>0</td>\n",
       "      <td>1.017</td>\n",
       "      <td>6.76</td>\n",
       "      <td>455.0</td>\n",
       "      <td>8.8</td>\n",
       "      <td>270</td>\n",
       "      <td>0.77</td>\n",
       "    </tr>\n",
       "    <tr>\n",
       "      <th>26</th>\n",
       "      <td>0</td>\n",
       "      <td>1.017</td>\n",
       "      <td>7.61</td>\n",
       "      <td>527.0</td>\n",
       "      <td>25.8</td>\n",
       "      <td>75</td>\n",
       "      <td>2.17</td>\n",
       "    </tr>\n",
       "    <tr>\n",
       "      <th>27</th>\n",
       "      <td>0</td>\n",
       "      <td>1.010</td>\n",
       "      <td>6.61</td>\n",
       "      <td>225.0</td>\n",
       "      <td>9.8</td>\n",
       "      <td>72</td>\n",
       "      <td>0.17</td>\n",
       "    </tr>\n",
       "    <tr>\n",
       "      <th>28</th>\n",
       "      <td>0</td>\n",
       "      <td>1.008</td>\n",
       "      <td>5.87</td>\n",
       "      <td>241.0</td>\n",
       "      <td>5.1</td>\n",
       "      <td>159</td>\n",
       "      <td>0.83</td>\n",
       "    </tr>\n",
       "    <tr>\n",
       "      <th>29</th>\n",
       "      <td>0</td>\n",
       "      <td>1.020</td>\n",
       "      <td>5.44</td>\n",
       "      <td>781.0</td>\n",
       "      <td>29.0</td>\n",
       "      <td>349</td>\n",
       "      <td>3.04</td>\n",
       "    </tr>\n",
       "    <tr>\n",
       "      <th>30</th>\n",
       "      <td>0</td>\n",
       "      <td>1.017</td>\n",
       "      <td>7.92</td>\n",
       "      <td>680.0</td>\n",
       "      <td>25.3</td>\n",
       "      <td>282</td>\n",
       "      <td>1.06</td>\n",
       "    </tr>\n",
       "    <tr>\n",
       "      <th>31</th>\n",
       "      <td>0</td>\n",
       "      <td>1.019</td>\n",
       "      <td>5.98</td>\n",
       "      <td>579.0</td>\n",
       "      <td>15.5</td>\n",
       "      <td>297</td>\n",
       "      <td>3.93</td>\n",
       "    </tr>\n",
       "    <tr>\n",
       "      <th>32</th>\n",
       "      <td>0</td>\n",
       "      <td>1.017</td>\n",
       "      <td>6.56</td>\n",
       "      <td>559.0</td>\n",
       "      <td>15.8</td>\n",
       "      <td>317</td>\n",
       "      <td>5.38</td>\n",
       "    </tr>\n",
       "    <tr>\n",
       "      <th>33</th>\n",
       "      <td>0</td>\n",
       "      <td>1.008</td>\n",
       "      <td>5.94</td>\n",
       "      <td>256.0</td>\n",
       "      <td>8.1</td>\n",
       "      <td>130</td>\n",
       "      <td>3.53</td>\n",
       "    </tr>\n",
       "    <tr>\n",
       "      <th>34</th>\n",
       "      <td>0</td>\n",
       "      <td>1.023</td>\n",
       "      <td>5.85</td>\n",
       "      <td>970.0</td>\n",
       "      <td>38.0</td>\n",
       "      <td>362</td>\n",
       "      <td>4.54</td>\n",
       "    </tr>\n",
       "    <tr>\n",
       "      <th>35</th>\n",
       "      <td>0</td>\n",
       "      <td>1.020</td>\n",
       "      <td>5.66</td>\n",
       "      <td>702.0</td>\n",
       "      <td>23.6</td>\n",
       "      <td>330</td>\n",
       "      <td>3.98</td>\n",
       "    </tr>\n",
       "    <tr>\n",
       "      <th>36</th>\n",
       "      <td>0</td>\n",
       "      <td>1.008</td>\n",
       "      <td>6.40</td>\n",
       "      <td>341.0</td>\n",
       "      <td>14.6</td>\n",
       "      <td>125</td>\n",
       "      <td>1.02</td>\n",
       "    </tr>\n",
       "    <tr>\n",
       "      <th>37</th>\n",
       "      <td>0</td>\n",
       "      <td>1.020</td>\n",
       "      <td>6.35</td>\n",
       "      <td>704.0</td>\n",
       "      <td>24.5</td>\n",
       "      <td>260</td>\n",
       "      <td>3.46</td>\n",
       "    </tr>\n",
       "    <tr>\n",
       "      <th>38</th>\n",
       "      <td>0</td>\n",
       "      <td>1.009</td>\n",
       "      <td>6.37</td>\n",
       "      <td>325.0</td>\n",
       "      <td>12.2</td>\n",
       "      <td>97</td>\n",
       "      <td>1.19</td>\n",
       "    </tr>\n",
       "    <tr>\n",
       "      <th>39</th>\n",
       "      <td>0</td>\n",
       "      <td>1.018</td>\n",
       "      <td>6.18</td>\n",
       "      <td>694.0</td>\n",
       "      <td>23.3</td>\n",
       "      <td>311</td>\n",
       "      <td>5.64</td>\n",
       "    </tr>\n",
       "    <tr>\n",
       "      <th>40</th>\n",
       "      <td>0</td>\n",
       "      <td>1.021</td>\n",
       "      <td>5.33</td>\n",
       "      <td>815.0</td>\n",
       "      <td>26.0</td>\n",
       "      <td>385</td>\n",
       "      <td>2.66</td>\n",
       "    </tr>\n",
       "    <tr>\n",
       "      <th>41</th>\n",
       "      <td>0</td>\n",
       "      <td>1.009</td>\n",
       "      <td>5.64</td>\n",
       "      <td>386.0</td>\n",
       "      <td>17.7</td>\n",
       "      <td>104</td>\n",
       "      <td>1.22</td>\n",
       "    </tr>\n",
       "    <tr>\n",
       "      <th>42</th>\n",
       "      <td>0</td>\n",
       "      <td>1.015</td>\n",
       "      <td>6.79</td>\n",
       "      <td>541.0</td>\n",
       "      <td>20.9</td>\n",
       "      <td>187</td>\n",
       "      <td>2.64</td>\n",
       "    </tr>\n",
       "    <tr>\n",
       "      <th>43</th>\n",
       "      <td>0</td>\n",
       "      <td>1.010</td>\n",
       "      <td>5.97</td>\n",
       "      <td>343.0</td>\n",
       "      <td>13.4</td>\n",
       "      <td>126</td>\n",
       "      <td>2.31</td>\n",
       "    </tr>\n",
       "    <tr>\n",
       "      <th>44</th>\n",
       "      <td>0</td>\n",
       "      <td>1.020</td>\n",
       "      <td>5.68</td>\n",
       "      <td>876.0</td>\n",
       "      <td>35.8</td>\n",
       "      <td>308</td>\n",
       "      <td>4.49</td>\n",
       "    </tr>\n",
       "  </tbody>\n",
       "</table>\n",
       "</div>"
      ],
      "text/plain": [
       "    r  gravity    ph    osmo  cond  urea  calc\n",
       "0   0    1.021  4.91   725.0   0.0   443  2.45\n",
       "1   0    1.017  5.74   577.0  20.0   296  4.49\n",
       "2   0    1.008  7.20   321.0  14.9   101  2.36\n",
       "3   0    1.011  5.51   408.0  12.6   224  2.15\n",
       "4   0    1.005  6.52   187.0   7.5    91  1.16\n",
       "5   0    1.020  5.27   668.0  25.3   252  3.34\n",
       "6   0    1.012  5.62   461.0  17.4   195  1.40\n",
       "7   0    1.029  5.67  1107.0  35.9   550  8.48\n",
       "8   0    1.015  5.41   543.0  21.9   170  1.16\n",
       "9   0    1.021  6.13   779.0  25.7   382  2.21\n",
       "10  0    1.011  6.19   345.0  11.5   152  1.93\n",
       "11  0    1.025  5.53   907.0  28.4   448  1.27\n",
       "12  0    1.006  7.12   242.0  11.3    64  1.03\n",
       "13  0    1.007  5.35   283.0   9.9   147  1.47\n",
       "14  0    1.011  5.21   450.0  17.9   161  1.53\n",
       "15  0    1.018  4.90   684.0  26.1   284  5.09\n",
       "16  0    1.007  6.63   253.0   8.4   133  1.05\n",
       "17  0    1.025  6.81   947.0  32.6   395  2.03\n",
       "18  0    1.008  6.88   395.0  26.1    95  7.68\n",
       "19  0    1.014  6.14   565.0  23.6   214  1.45\n",
       "20  0    1.024  6.30   874.0  29.9   380  5.16\n",
       "21  0    1.019  5.47   760.0  33.8   199  0.81\n",
       "22  0    1.014  7.38   577.0  30.1    87  1.32\n",
       "23  0    1.020  5.96   631.0  11.2   422  1.55\n",
       "24  0    1.023  5.68   749.0  29.0   239  1.52\n",
       "25  0    1.017  6.76   455.0   8.8   270  0.77\n",
       "26  0    1.017  7.61   527.0  25.8    75  2.17\n",
       "27  0    1.010  6.61   225.0   9.8    72  0.17\n",
       "28  0    1.008  5.87   241.0   5.1   159  0.83\n",
       "29  0    1.020  5.44   781.0  29.0   349  3.04\n",
       "30  0    1.017  7.92   680.0  25.3   282  1.06\n",
       "31  0    1.019  5.98   579.0  15.5   297  3.93\n",
       "32  0    1.017  6.56   559.0  15.8   317  5.38\n",
       "33  0    1.008  5.94   256.0   8.1   130  3.53\n",
       "34  0    1.023  5.85   970.0  38.0   362  4.54\n",
       "35  0    1.020  5.66   702.0  23.6   330  3.98\n",
       "36  0    1.008  6.40   341.0  14.6   125  1.02\n",
       "37  0    1.020  6.35   704.0  24.5   260  3.46\n",
       "38  0    1.009  6.37   325.0  12.2    97  1.19\n",
       "39  0    1.018  6.18   694.0  23.3   311  5.64\n",
       "40  0    1.021  5.33   815.0  26.0   385  2.66\n",
       "41  0    1.009  5.64   386.0  17.7   104  1.22\n",
       "42  0    1.015  6.79   541.0  20.9   187  2.64\n",
       "43  0    1.010  5.97   343.0  13.4   126  2.31\n",
       "44  0    1.020  5.68   876.0  35.8   308  4.49"
      ]
     },
     "execution_count": 172,
     "metadata": {},
     "output_type": "execute_result"
    }
   ],
   "source": [
    "df1.iloc[:45,:]"
   ]
  },
  {
   "cell_type": "code",
   "execution_count": 354,
   "metadata": {
    "collapsed": false,
    "scrolled": true
   },
   "outputs": [
    {
     "name": "stdout",
     "output_type": "stream",
     "text": [
      "[[ 0.8469039]]\n",
      "[  1.69059979e-14]\n"
     ]
    }
   ],
   "source": [
    "lm = LinearRegression()\n",
    "lm.fit(np.reshape(gravity, (len(gravity), 1)), np.reshape(urea, (len(urea), 1)))\n",
    "\n",
    "# 印出係數\n",
    "print(lm.coef_)\n",
    "\n",
    "# 印出截距\n",
    "print(lm.intercept_ )"
   ]
  },
  {
   "cell_type": "code",
   "execution_count": 355,
   "metadata": {
    "collapsed": false,
    "scrolled": true
   },
   "outputs": [
    {
     "name": "stdout",
     "output_type": "stream",
     "text": [
      "[[ 0.85494949]]\n"
     ]
    }
   ],
   "source": [
    "to_be_predicted = np.array([1.0095])\n",
    "predicted_urea= lm.predict(np.reshape(to_be_predicted, (len(to_be_predicted), 1)))\n",
    "\n",
    "print(predicted_urea)"
   ]
  },
  {
   "cell_type": "code",
   "execution_count": 356,
   "metadata": {
    "collapsed": true
   },
   "outputs": [],
   "source": [
    "X1 = np.reshape(x1, (len(x1), 1))\n",
    "Y1 = np.reshape(y1, (len(y1), 1))"
   ]
  },
  {
   "cell_type": "code",
   "execution_count": 357,
   "metadata": {
    "collapsed": true
   },
   "outputs": [],
   "source": [
    "x1 = gravity\n",
    "y1 = urea"
   ]
  },
  {
   "cell_type": "code",
   "execution_count": 91,
   "metadata": {
    "collapsed": true
   },
   "outputs": [
    {
     "data": {
      "text/plain": [
       "array([ 1.017,  1.008,  1.011,  1.005,  1.02 ,  1.012,  1.029,  1.015,\n",
       "        1.021,  1.011,  1.025,  1.006,  1.007,  1.011,  1.018,  1.007,\n",
       "        1.025,  1.008,  1.014,  1.024,  1.019,  1.014,  1.02 ,  1.023,\n",
       "        1.017,  1.017,  1.01 ,  1.008,  1.02 ,  1.017,  1.019,  1.017,\n",
       "        1.008,  1.023,  1.02 ,  1.008,  1.02 ,  1.009,  1.018,  1.021,\n",
       "        1.009,  1.015,  1.01 ,  1.02 ,  1.021,  1.024,  1.024,  1.021,\n",
       "        1.024,  1.026,  1.013,  1.01 ,  1.011,  1.011,  1.031,  1.02 ,\n",
       "        1.04 ,  1.021,  1.025,  1.026,  1.034,  1.033,  1.015,  1.013,\n",
       "        1.014,  1.012,  1.025,  1.026,  1.028,  1.027,  1.018,  1.022,\n",
       "        1.025,  1.017,  1.024,  1.016,  1.015])"
      ]
     },
     "execution_count": 91,
     "metadata": {},
     "output_type": "execute_result"
    }
   ],
   "source": [
    "x1"
   ]
  },
  {
   "cell_type": "code",
   "execution_count": 359,
   "metadata": {
    "collapsed": false
   },
   "outputs": [],
   "source": [
    "#Sklearn linear regression\n",
    "plt.figure(2, figsize=(25, 16))\n",
    "plt.scatter(x1, y1,c=Y, cmap=plt.cm.winter, edgecolor='#F779CF', s=200, \n",
    "            marker='8', alpha=1)\n",
    "plt.plot(x1, lm.predict(np.reshape(x1, (len(x1), 1))), color='#B75D69', linewidth=5)\n",
    "#plt.plot(to_be_predicted, predicted_urea, color = '#309BDD', marker = '^', markersize = 20)\n",
    "\n",
    "#p3.text(49,0+20,\"$missing$ $value$\",fontsize= 15, color = \"#103900\", verticalalignment=\"bottom\",horizontalalignment=\"left\")\n",
    "#p3.annotate(\"$missing$ $value$\", fontsize= 15, color = \"#103900\",xy=(49, 0),xytext=(49,50),arrowprops=dict(facecolor=\"#F98BB0\", shrink=0.001))\n",
    "\n",
    "plt.xlabel('$Specific$ $gravity$ $of$ $the$ $urine$',fontsize=30, color = \"#276C8C\")\n",
    "plt.ylabel('$Urea$ $concentration$ $per$ $litre$', fontsize=30, color = \"#276C8C\")\n",
    "plt.title('$Linear$ $regression$ $between$ $gravity$ $and$ $urine$', fontsize = 40, color = \"#3E9145\")\n",
    "plt.xlim(x1.min() - 0.0005, x1.max() + 0.0005)\n",
    "plt.ylim(y1.min() - 0.05, y1.max() + 0.05)\n",
    "plt.show()"
   ]
  },
  {
   "cell_type": "code",
   "execution_count": 360,
   "metadata": {
    "collapsed": false,
    "scrolled": true
   },
   "outputs": [
    {
     "data": {
      "text/plain": [
       "(array([ 1.0095]), array([[ 0.85494949]]))"
      ]
     },
     "execution_count": 360,
     "metadata": {},
     "output_type": "execute_result"
    }
   ],
   "source": [
    "to_be_predicted, predicted_urea"
   ]
  },
  {
   "cell_type": "code",
   "execution_count": 361,
   "metadata": {
    "collapsed": false
   },
   "outputs": [
    {
     "name": "stdout",
     "output_type": "stream",
     "text": [
      "85623.0185121\n",
      "-4.09492049532\n"
     ]
    }
   ],
   "source": [
    "# 模型績效\n",
    "mse = np.mean((lm.predict(X1) - Y1) ** 2)\n",
    "r_squared = lm.score(X1, Y1)\n",
    "\n",
    "# 印出模型績效\n",
    "print(mse)\n",
    "print(r_squared)"
   ]
  },
  {
   "cell_type": "code",
   "execution_count": 210,
   "metadata": {
    "collapsed": true
   },
   "outputs": [
    {
     "data": {
      "text/plain": [
       "array([[  1.01700000e+00,   5.74000000e+00,   5.77000000e+02,\n",
       "          2.00000000e+01,   2.96000000e+02,   4.49000000e+00],\n",
       "       [  1.00800000e+00,   7.20000000e+00,   3.21000000e+02,\n",
       "          1.49000000e+01,   1.01000000e+02,   2.36000000e+00],\n",
       "       [  1.01100000e+00,   5.51000000e+00,   4.08000000e+02,\n",
       "          1.26000000e+01,   2.24000000e+02,   2.15000000e+00],\n",
       "       [  1.00500000e+00,   6.52000000e+00,   1.87000000e+02,\n",
       "          7.50000000e+00,   9.10000000e+01,   1.16000000e+00],\n",
       "       [  1.02000000e+00,   5.27000000e+00,   6.68000000e+02,\n",
       "          2.53000000e+01,   2.52000000e+02,   3.34000000e+00],\n",
       "       [  1.01200000e+00,   5.62000000e+00,   4.61000000e+02,\n",
       "          1.74000000e+01,   1.95000000e+02,   1.40000000e+00],\n",
       "       [  1.02900000e+00,   5.67000000e+00,   1.10700000e+03,\n",
       "          3.59000000e+01,   5.50000000e+02,   8.48000000e+00],\n",
       "       [  1.01500000e+00,   5.41000000e+00,   5.43000000e+02,\n",
       "          2.19000000e+01,   1.70000000e+02,   1.16000000e+00],\n",
       "       [  1.02100000e+00,   6.13000000e+00,   7.79000000e+02,\n",
       "          2.57000000e+01,   3.82000000e+02,   2.21000000e+00],\n",
       "       [  1.01100000e+00,   6.19000000e+00,   3.45000000e+02,\n",
       "          1.15000000e+01,   1.52000000e+02,   1.93000000e+00],\n",
       "       [  1.02500000e+00,   5.53000000e+00,   9.07000000e+02,\n",
       "          2.84000000e+01,   4.48000000e+02,   1.27000000e+00],\n",
       "       [  1.00600000e+00,   7.12000000e+00,   2.42000000e+02,\n",
       "          1.13000000e+01,   6.40000000e+01,   1.03000000e+00],\n",
       "       [  1.00700000e+00,   5.35000000e+00,   2.83000000e+02,\n",
       "          9.90000000e+00,   1.47000000e+02,   1.47000000e+00],\n",
       "       [  1.01100000e+00,   5.21000000e+00,   4.50000000e+02,\n",
       "          1.79000000e+01,   1.61000000e+02,   1.53000000e+00],\n",
       "       [  1.01800000e+00,   4.90000000e+00,   6.84000000e+02,\n",
       "          2.61000000e+01,   2.84000000e+02,   5.09000000e+00],\n",
       "       [  1.00700000e+00,   6.63000000e+00,   2.53000000e+02,\n",
       "          8.40000000e+00,   1.33000000e+02,   1.05000000e+00],\n",
       "       [  1.02500000e+00,   6.81000000e+00,   9.47000000e+02,\n",
       "          3.26000000e+01,   3.95000000e+02,   2.03000000e+00],\n",
       "       [  1.00800000e+00,   6.88000000e+00,   3.95000000e+02,\n",
       "          2.61000000e+01,   9.50000000e+01,   7.68000000e+00],\n",
       "       [  1.01400000e+00,   6.14000000e+00,   5.65000000e+02,\n",
       "          2.36000000e+01,   2.14000000e+02,   1.45000000e+00],\n",
       "       [  1.02400000e+00,   6.30000000e+00,   8.74000000e+02,\n",
       "          2.99000000e+01,   3.80000000e+02,   5.16000000e+00],\n",
       "       [  1.01900000e+00,   5.47000000e+00,   7.60000000e+02,\n",
       "          3.38000000e+01,   1.99000000e+02,   8.10000000e-01],\n",
       "       [  1.01400000e+00,   7.38000000e+00,   5.77000000e+02,\n",
       "          3.01000000e+01,   8.70000000e+01,   1.32000000e+00],\n",
       "       [  1.02000000e+00,   5.96000000e+00,   6.31000000e+02,\n",
       "          1.12000000e+01,   4.22000000e+02,   1.55000000e+00],\n",
       "       [  1.02300000e+00,   5.68000000e+00,   7.49000000e+02,\n",
       "          2.90000000e+01,   2.39000000e+02,   1.52000000e+00],\n",
       "       [  1.01700000e+00,   6.76000000e+00,   4.55000000e+02,\n",
       "          8.80000000e+00,   2.70000000e+02,   7.70000000e-01],\n",
       "       [  1.01700000e+00,   7.61000000e+00,   5.27000000e+02,\n",
       "          2.58000000e+01,   7.50000000e+01,   2.17000000e+00],\n",
       "       [  1.01000000e+00,   6.61000000e+00,   2.25000000e+02,\n",
       "          9.80000000e+00,   7.20000000e+01,   1.70000000e-01],\n",
       "       [  1.00800000e+00,   5.87000000e+00,   2.41000000e+02,\n",
       "          5.10000000e+00,   1.59000000e+02,   8.30000000e-01],\n",
       "       [  1.02000000e+00,   5.44000000e+00,   7.81000000e+02,\n",
       "          2.90000000e+01,   3.49000000e+02,   3.04000000e+00],\n",
       "       [  1.01700000e+00,   7.92000000e+00,   6.80000000e+02,\n",
       "          2.53000000e+01,   2.82000000e+02,   1.06000000e+00],\n",
       "       [  1.01900000e+00,   5.98000000e+00,   5.79000000e+02,\n",
       "          1.55000000e+01,   2.97000000e+02,   3.93000000e+00],\n",
       "       [  1.01700000e+00,   6.56000000e+00,   5.59000000e+02,\n",
       "          1.58000000e+01,   3.17000000e+02,   5.38000000e+00],\n",
       "       [  1.00800000e+00,   5.94000000e+00,   2.56000000e+02,\n",
       "          8.10000000e+00,   1.30000000e+02,   3.53000000e+00],\n",
       "       [  1.02300000e+00,   5.85000000e+00,   9.70000000e+02,\n",
       "          3.80000000e+01,   3.62000000e+02,   4.54000000e+00],\n",
       "       [  1.02000000e+00,   5.66000000e+00,   7.02000000e+02,\n",
       "          2.36000000e+01,   3.30000000e+02,   3.98000000e+00],\n",
       "       [  1.00800000e+00,   6.40000000e+00,   3.41000000e+02,\n",
       "          1.46000000e+01,   1.25000000e+02,   1.02000000e+00],\n",
       "       [  1.02000000e+00,   6.35000000e+00,   7.04000000e+02,\n",
       "          2.45000000e+01,   2.60000000e+02,   3.46000000e+00],\n",
       "       [  1.00900000e+00,   6.37000000e+00,   3.25000000e+02,\n",
       "          1.22000000e+01,   9.70000000e+01,   1.19000000e+00],\n",
       "       [  1.01800000e+00,   6.18000000e+00,   6.94000000e+02,\n",
       "          2.33000000e+01,   3.11000000e+02,   5.64000000e+00],\n",
       "       [  1.02100000e+00,   5.33000000e+00,   8.15000000e+02,\n",
       "          2.60000000e+01,   3.85000000e+02,   2.66000000e+00],\n",
       "       [  1.00900000e+00,   5.64000000e+00,   3.86000000e+02,\n",
       "          1.77000000e+01,   1.04000000e+02,   1.22000000e+00],\n",
       "       [  1.01500000e+00,   6.79000000e+00,   5.41000000e+02,\n",
       "          2.09000000e+01,   1.87000000e+02,   2.64000000e+00],\n",
       "       [  1.01000000e+00,   5.97000000e+00,   3.43000000e+02,\n",
       "          1.34000000e+01,   1.26000000e+02,   2.31000000e+00],\n",
       "       [  1.02000000e+00,   5.68000000e+00,   8.76000000e+02,\n",
       "          3.58000000e+01,   3.08000000e+02,   4.49000000e+00],\n",
       "       [  1.02100000e+00,   5.94000000e+00,   7.74000000e+02,\n",
       "          2.79000000e+01,   3.25000000e+02,   6.96000000e+00],\n",
       "       [  1.02400000e+00,   5.77000000e+00,   6.98000000e+02,\n",
       "          1.95000000e+01,   3.54000000e+02,   1.30000000e+01],\n",
       "       [  1.02400000e+00,   5.60000000e+00,   8.66000000e+02,\n",
       "          2.95000000e+01,   3.60000000e+02,   5.54000000e+00],\n",
       "       [  1.02100000e+00,   5.53000000e+00,   7.75000000e+02,\n",
       "          3.12000000e+01,   3.02000000e+02,   6.19000000e+00],\n",
       "       [  1.02400000e+00,   5.36000000e+00,   8.53000000e+02,\n",
       "          2.76000000e+01,   3.64000000e+02,   7.31000000e+00],\n",
       "       [  1.02600000e+00,   5.16000000e+00,   8.22000000e+02,\n",
       "          2.60000000e+01,   3.01000000e+02,   1.43400000e+01],\n",
       "       [  1.01300000e+00,   5.86000000e+00,   5.31000000e+02,\n",
       "          2.14000000e+01,   1.97000000e+02,   4.74000000e+00],\n",
       "       [  1.01000000e+00,   6.27000000e+00,   3.71000000e+02,\n",
       "          1.12000000e+01,   1.88000000e+02,   2.50000000e+00],\n",
       "       [  1.01100000e+00,   7.01000000e+00,   4.43000000e+02,\n",
       "          2.14000000e+01,   1.24000000e+02,   1.27000000e+00],\n",
       "       [  1.01100000e+00,   6.13000000e+00,   3.64000000e+02,\n",
       "          1.09000000e+01,   1.59000000e+02,   3.10000000e+00],\n",
       "       [  1.03100000e+00,   5.73000000e+00,   8.74000000e+02,\n",
       "          1.74000000e+01,   5.16000000e+02,   3.01000000e+00],\n",
       "       [  1.02000000e+00,   7.94000000e+00,   5.67000000e+02,\n",
       "          1.97000000e+01,   2.12000000e+02,   6.81000000e+00],\n",
       "       [  1.04000000e+00,   6.28000000e+00,   8.38000000e+02,\n",
       "          1.43000000e+01,   4.86000000e+02,   8.28000000e+00],\n",
       "       [  1.02100000e+00,   5.56000000e+00,   6.58000000e+02,\n",
       "          2.36000000e+01,   2.24000000e+02,   2.33000000e+00],\n",
       "       [  1.02500000e+00,   5.71000000e+00,   8.54000000e+02,\n",
       "          2.70000000e+01,   3.85000000e+02,   7.18000000e+00],\n",
       "       [  1.02600000e+00,   6.19000000e+00,   9.56000000e+02,\n",
       "          2.76000000e+01,   4.73000000e+02,   5.67000000e+00],\n",
       "       [  1.03400000e+00,   5.24000000e+00,   1.23600000e+03,\n",
       "          2.73000000e+01,   6.20000000e+02,   1.26800000e+01],\n",
       "       [  1.03300000e+00,   5.58000000e+00,   1.03200000e+03,\n",
       "          2.91000000e+01,   4.30000000e+02,   8.94000000e+00],\n",
       "       [  1.01500000e+00,   5.98000000e+00,   4.87000000e+02,\n",
       "          1.48000000e+01,   1.98000000e+02,   3.16000000e+00],\n",
       "       [  1.01300000e+00,   5.58000000e+00,   5.16000000e+02,\n",
       "          2.08000000e+01,   1.84000000e+02,   3.30000000e+00],\n",
       "       [  1.01400000e+00,   5.90000000e+00,   4.56000000e+02,\n",
       "          1.78000000e+01,   1.64000000e+02,   6.99000000e+00],\n",
       "       [  1.01200000e+00,   6.75000000e+00,   2.51000000e+02,\n",
       "          5.10000000e+00,   1.41000000e+02,   6.50000000e-01],\n",
       "       [  1.02500000e+00,   6.90000000e+00,   9.45000000e+02,\n",
       "          3.36000000e+01,   3.96000000e+02,   4.18000000e+00],\n",
       "       [  1.02600000e+00,   6.29000000e+00,   8.33000000e+02,\n",
       "          2.22000000e+01,   4.57000000e+02,   4.45000000e+00],\n",
       "       [  1.02800000e+00,   4.76000000e+00,   3.12000000e+02,\n",
       "          1.24000000e+01,   1.00000000e+01,   2.70000000e-01],\n",
       "       [  1.02700000e+00,   5.40000000e+00,   8.40000000e+02,\n",
       "          2.45000000e+01,   3.95000000e+02,   7.64000000e+00],\n",
       "       [  1.01800000e+00,   5.14000000e+00,   7.03000000e+02,\n",
       "          2.90000000e+01,   2.72000000e+02,   6.63000000e+00],\n",
       "       [  1.02200000e+00,   5.09000000e+00,   7.36000000e+02,\n",
       "          1.98000000e+01,   4.18000000e+02,   8.53000000e+00],\n",
       "       [  1.02500000e+00,   7.90000000e+00,   7.21000000e+02,\n",
       "          2.36000000e+01,   3.01000000e+02,   9.04000000e+00],\n",
       "       [  1.01700000e+00,   4.81000000e+00,   4.10000000e+02,\n",
       "          1.33000000e+01,   1.95000000e+02,   5.80000000e-01],\n",
       "       [  1.02400000e+00,   5.40000000e+00,   8.03000000e+02,\n",
       "          2.18000000e+01,   3.94000000e+02,   7.82000000e+00],\n",
       "       [  1.01600000e+00,   6.81000000e+00,   5.94000000e+02,\n",
       "          2.14000000e+01,   2.55000000e+02,   1.22000000e+01],\n",
       "       [  1.01500000e+00,   6.03000000e+00,   4.16000000e+02,\n",
       "          1.28000000e+01,   1.78000000e+02,   9.39000000e+00]])"
      ]
     },
     "execution_count": 210,
     "metadata": {},
     "output_type": "execute_result"
    }
   ],
   "source": [
    "X"
   ]
  },
  {
   "cell_type": "code",
   "execution_count": 80,
   "metadata": {
    "collapsed": true
   },
   "outputs": [],
   "source": [
    "#https://ithelp.ithome.com.tw/articles/10187191"
   ]
  },
  {
   "cell_type": "code",
   "execution_count": 362,
   "metadata": {
    "collapsed": false
   },
   "outputs": [],
   "source": [
    "from sklearn import tree\n",
    "from sklearn.cross_validation import train_test_split\n",
    "from sklearn import metrics\n",
    "from sklearn import neighbors\n",
    "from sklearn.tree import DecisionTreeRegressor"
   ]
  },
  {
   "cell_type": "code",
   "execution_count": 394,
   "metadata": {
    "collapsed": false
   },
   "outputs": [],
   "source": [
    "xx = X3.values"
   ]
  },
  {
   "cell_type": "code",
   "execution_count": 396,
   "metadata": {
    "collapsed": true
   },
   "outputs": [],
   "source": [
    "train_X, test_X, train_y, test_y = train_test_split(xx, Y2, test_size = 0.2)"
   ]
  },
  {
   "cell_type": "code",
   "execution_count": 397,
   "metadata": {
    "collapsed": true
   },
   "outputs": [],
   "source": [
    "clf = tree.DecisionTreeClassifier()\n",
    "urine_clf = clf.fit(train_X, train_y)"
   ]
  },
  {
   "cell_type": "code",
   "execution_count": 412,
   "metadata": {
    "collapsed": false,
    "scrolled": true
   },
   "outputs": [
    {
     "name": "stdout",
     "output_type": "stream",
     "text": [
      "[1 1 1 0 1 0 1 1 1 0 1 0 0 1 1 0]\n",
      "[[0 1 0 0 1 0 1 0 0 0 1 0 1 0 1 0]]\n"
     ]
    }
   ],
   "source": [
    "test_y_predicted = urine_clf.predict(test_X)\n",
    "a = test_y.reshape(1,len(test_y))\n",
    "print(test_y_predicted)\n",
    "print(a)"
   ]
  },
  {
   "cell_type": "code",
   "execution_count": 414,
   "metadata": {
    "collapsed": false
   },
   "outputs": [],
   "source": [
    "result = clf.predict_proba(test_X)"
   ]
  },
  {
   "cell_type": "code",
   "execution_count": 402,
   "metadata": {
    "collapsed": false
   },
   "outputs": [
    {
     "name": "stdout",
     "output_type": "stream",
     "text": [
      "0.625\n"
     ]
    }
   ],
   "source": [
    "accuracy = metrics.accuracy_score(test_y, test_y_predicted)\n",
    "print(accuracy)"
   ]
  },
  {
   "cell_type": "code",
   "execution_count": 381,
   "metadata": {
    "collapsed": false,
    "scrolled": true
   },
   "outputs": [
    {
     "name": "stdout",
     "output_type": "stream",
     "text": [
      "[0 1 0 0 1 1 1 1 1 0 0 0 1 0 0 0]\n"
     ]
    }
   ],
   "source": [
    "clf2 = neighbors.KNeighborsClassifier(n_neighbors= 7)\n",
    "knn_urine_clf = clf2.fit(train_X2, train_y2)\n",
    "test_y_predicted2 = knn_urine_clf.predict(test_X2)\n",
    "print(test_y_predicted2)"
   ]
  },
  {
   "cell_type": "code",
   "execution_count": 379,
   "metadata": {
    "collapsed": false,
    "scrolled": true
   },
   "outputs": [
    {
     "name": "stdout",
     "output_type": "stream",
     "text": [
      "0.4375\n"
     ]
    }
   ],
   "source": [
    "accuracy2 = metrics.accuracy_score(test_y2, test_y_predicted2)\n",
    "print(accuracy2)"
   ]
  },
  {
   "cell_type": "code",
   "execution_count": 380,
   "metadata": {
    "collapsed": false
   },
   "outputs": [
    {
     "name": "stdout",
     "output_type": "stream",
     "text": [
      "1 0.625\n"
     ]
    }
   ],
   "source": [
    "range = np.arange(1, round(0.2 * train_X.shape[0]) + 1)\n",
    "accuracies = []\n",
    "\n",
    "for i in range:\n",
    "    clf = neighbors.KNeighborsClassifier(n_neighbors = i)\n",
    "    knn_urine_clf = clf.fit(train_X, train_y)\n",
    "    test_y_predicted = knn_urine_clf.predict(test_X)\n",
    "    accuracy = metrics.accuracy_score(test_y, test_y_predicted)\n",
    "    accuracies.append(accuracy)\n",
    "appr_k = accuracies.index(max(accuracies)) + 1\n",
    "\n",
    "# 視覺化\n",
    "plt.scatter(range, accuracies, c='#76DBD2', edgecolor='#1B998B', s=200, \n",
    "            marker='8', alpha=1)\n",
    "plt.scatter(appr_k, max(accuracies), c='#103900', s = 200)\n",
    "plt.xlabel('$k$',fontsize=20, color = \"#276C8C\")\n",
    "plt.ylabel('$Accuracy$', fontsize=20, color = \"#276C8C\")\n",
    "plt.title('$Choose$ $the$ $best$ $k$', fontsize = 26, color = \"#3E9145\")\n",
    "\n",
    "plt.annotate(\"$Appropriate$ $value$ $(11 ,$ $0.6875)$\", fontsize= 18, color = \"#103900\",xy=(appr_k, max(accuracies)),xytext=(appr_k-6,max(accuracies)+0.02))\n",
    "plt.show()\n",
    "\n",
    "print(appr_k, max(accuracies))"
   ]
  },
  {
   "cell_type": "code",
   "execution_count": null,
   "metadata": {
    "collapsed": true
   },
   "outputs": [],
   "source": []
  }
 ],
 "metadata": {
  "anaconda-cloud": {},
  "kernelspec": {
   "display_name": "Python [Root]",
   "language": "python",
   "name": "Python [Root]"
  },
  "language_info": {
   "codemirror_mode": {
    "name": "ipython",
    "version": 3
   },
   "file_extension": ".py",
   "mimetype": "text/x-python",
   "name": "python",
   "nbconvert_exporter": "python",
   "pygments_lexer": "ipython3",
   "version": "3.5.2"
  }
 },
 "nbformat": 4,
 "nbformat_minor": 0
}
